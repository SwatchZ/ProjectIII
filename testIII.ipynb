{
 "cells": [
  {
   "cell_type": "code",
   "execution_count": null,
   "metadata": {},
   "outputs": [],
   "source": [
    "# Flatten nested items and calculate sales\n",
    "flattened_items = []\n",
    "for index, row in df.iterrows():\n",
    "    for item in row['items']:\n",
    "        # Extract relevant information\n",
    "        name = item['name']\n",
    "        tags = item['tags']\n",
    "        quantity = int(item['quantity']) if 'quantity' in item else 0\n",
    "        price = item['price']\n",
    "        if isinstance(price, dict):\n",
    "            price = float(price['$numberDecimal'])\n",
    "        else:\n",
    "            price = float(price)\n",
    "\n",
    "        flattened_items.append({\n",
    "            'name': name,\n",
    "            'tags': tags,\n",
    "            'quantity': quantity,\n",
    "            'price': price,\n",
    "        })\n",
    "\n",
    "# Create a new DataFrame with flattened data\n",
    "new_df = pd.DataFrame(flattened_items)\n",
    "\n",
    "# Calculate sales for each product\n",
    "new_df['sales'] = new_df['quantity'] * new_df['price']\n",
    "\n",
    "# Rank products by total sales\n",
    "top_products = new_df.groupby('name')['sales'].sum().reset_index()\n",
    "top_products = top_products.sort_values(by='sales', ascending=False)\n",
    "top_10_products = top_products.head(10)\n",
    "\n",
    "# Rank store locations by total sales\n",
    "store_rankings = new_df.groupby('storeLocation')['sales'].sum().reset_index()\n",
    "store_rankings = store_rankings.sort_values(by='sales', ascending=False)\n",
    "store_rankings['Rank'] = range(1, len(store_rankings) + 1)\n"
   ]
  },
  {
   "cell_type": "code",
   "execution_count": null,
   "metadata": {},
   "outputs": [],
   "source": [
    "# Top 3 products by store location\n",
    "sales_by_store_and_product = new_df.groupby(['storeLocation', 'name'])['sales'].sum().reset_index()\n",
    "sales_by_store_and_product = sales_by_store_and_product.sort_values(by=['storeLocation', 'sales'], ascending=[True, False])\n",
    "\n",
    "top_3_products_by_store = {}\n",
    "\n",
    "for store_location, group in sales_by_store_and_product.groupby('storeLocation'):\n",
    "    top_3_products = group['name'].head(3).tolist()\n",
    "    top_3_products_by_store[store_location] = top_3_products\n",
    "\n",
    "# Top 3 products by location\n",
    "sales_by_location = new_df.groupby(['storeLocation', 'name'])['quantity'].sum().reset_index()\n",
    "sales_by_location = sales_by_location.sort_values(by=['storeLocation', 'quantity'], ascending=[True, False])\n",
    "top_3_products_by_location = sales_by_location.groupby('storeLocation').head(3)\n",
    "\n",
    "# Analyze purchase methods by gender\n",
    "purchase_method = df['purchaseMethod']\n",
    "gender = df['customer'].apply(lambda x: x.get('gender', 'Unknown'))\n",
    "combined_df = pd.DataFrame({'purchaseMethod': purchase_method, 'gender': gender})\n",
    "purchase_method_by_gender = pd.crosstab(combined_df['gender'], combined_df['purchaseMethod'])\n"
   ]
  },
  {
   "cell_type": "code",
   "execution_count": null,
   "metadata": {},
   "outputs": [],
   "source": [
    "# Convert saleDate to datetime\n",
    "df['DateStr'] = df['saleDate'].apply(lambda x: x['$date'])\n",
    "df['saleDate'] = pd.to_datetime(df['DateStr'], errors='coerce')\n",
    "df['YearMonth'] = df['saleDate'].dt.strftime('%Y-%m')\n",
    "\n",
    "# Calculate monthly total sales\n",
    "monthly_total_sales = new_df.groupby(df['YearMonth'])['sales'].sum().reset_index()\n"
   ]
  }
 ],
 "metadata": {
  "kernelspec": {
   "display_name": "Python 3",
   "language": "python",
   "name": "python3"
  },
  "language_info": {
   "codemirror_mode": {
    "name": "ipython",
    "version": 3
   },
   "file_extension": ".py",
   "mimetype": "text/x-python",
   "name": "python",
   "nbconvert_exporter": "python",
   "pygments_lexer": "ipython3",
   "version": "3.11.5"
  },
  "orig_nbformat": 4
 },
 "nbformat": 4,
 "nbformat_minor": 2
}
